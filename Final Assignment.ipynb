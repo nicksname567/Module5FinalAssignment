# Print output
print("Assignment file")
